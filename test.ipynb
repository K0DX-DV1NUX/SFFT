{
 "cells": [
  {
   "cell_type": "code",
   "execution_count": 1,
   "metadata": {},
   "outputs": [],
   "source": [
    "import torch\n",
    "import torch.nn as nn\n",
    "import torch.nn.functional as F"
   ]
  },
  {
   "cell_type": "code",
   "execution_count": null,
   "metadata": {},
   "outputs": [],
   "source": [
    "def dft_matrix(N):\n",
    "    \"\"\"\n",
    "    Generate the normalized DFT matrix F of size (N, N).\n",
    "    F_{jk} = 1/sqrt(N) * exp(-2 * pi * i * j * k / N)\n",
    "    \"\"\"\n",
    "    # Generate the row indices (j) and column indices (k)\n",
    "    j = torch.arange(N).view(-1, 1)  # shape (N, 1)\n",
    "    k = torch.arange(N).view(1, -1)  # shape (1, N)\n",
    "\n",
    "    # Compute the complex exponential part (exp(-2 * pi * i * j * k / N))\n",
    "    exponent = -2j * torch.pi * j * k / N\n",
    "    F = (1 / torch.sqrt(torch.tensor(N, dtype=torch.float32))) * torch.exp(exponent)\n",
    "\n",
    "    return F\n",
    "\n",
    "# Example usage\n",
    "N = 8  # Size of the matrix\n",
    "F = dft_matrix(N)\n",
    "\n",
    "print(F)"
   ]
  },
  {
   "cell_type": "code",
   "execution_count": null,
   "metadata": {},
   "outputs": [],
   "source": [
    "F_inv = torch.linalg.inv(F)\n",
    "F_inv_conj_transpose = torch.conj(F).transpose(0, 1)\n",
    "F_inv_check = torch.allclose(F_inv, F_inv_conj_transpose)\n",
    "print(\"F_inv is equal to the conjugate transpose of F:\", F_inv_check)\n"
   ]
  },
  {
   "cell_type": "code",
   "execution_count": null,
   "metadata": {},
   "outputs": [],
   "source": [
    "F_inv_conj_transpose.dtype"
   ]
  },
  {
   "cell_type": "code",
   "execution_count": null,
   "metadata": {},
   "outputs": [],
   "source": [
    "N = 8\n",
    "F = dft_matrix(8).to(torch.complex64)\n",
    "F_inv = torch.conj(F).transpose(0, 1)\n",
    "a = torch.Tensor([1, 2, 3, 4, 4, 3, 2, 1]).to(torch.complex64)\n",
    "A = torch.diag(a)\n",
    "C = F @ A @ F_inv\n",
    "print(C.real)\n",
    "\n"
   ]
  },
  {
   "cell_type": "code",
   "execution_count": null,
   "metadata": {},
   "outputs": [],
   "source": [
    "C.real.dtype"
   ]
  },
  {
   "cell_type": "code",
   "execution_count": 2,
   "metadata": {},
   "outputs": [
    {
     "ename": "TypeError",
     "evalue": "avg_pool1d(): argument 'padding' must be tuple of ints, not str",
     "output_type": "error",
     "traceback": [
      "\u001b[31m---------------------------------------------------------------------------\u001b[39m",
      "\u001b[31mTypeError\u001b[39m                                 Traceback (most recent call last)",
      "\u001b[36mCell\u001b[39m\u001b[36m \u001b[39m\u001b[32mIn[2]\u001b[39m\u001b[32m, line 2\u001b[39m\n\u001b[32m      1\u001b[39m abc = torch.randn(\u001b[32m1\u001b[39m, \u001b[32m100\u001b[39m)\n\u001b[32m----> \u001b[39m\u001b[32m2\u001b[39m output = \u001b[43mF\u001b[49m\u001b[43m.\u001b[49m\u001b[43mavg_pool1d\u001b[49m\u001b[43m(\u001b[49m\u001b[43mabc\u001b[49m\u001b[43m,\u001b[49m\u001b[43m \u001b[49m\u001b[43mkernel_size\u001b[49m\u001b[43m=\u001b[49m\u001b[32;43m20\u001b[39;49m\u001b[43m,\u001b[49m\u001b[43m \u001b[49m\u001b[43mpadding\u001b[49m\u001b[43m=\u001b[49m\u001b[33;43m\"\u001b[39;49m\u001b[33;43msame\u001b[39;49m\u001b[33;43m\"\u001b[39;49m\u001b[43m)\u001b[49m\n\u001b[32m      3\u001b[39m output.shape\n",
      "\u001b[31mTypeError\u001b[39m: avg_pool1d(): argument 'padding' must be tuple of ints, not str"
     ]
    }
   ],
   "source": [
    "abc = torch.randn(1, 100)\n",
    "output = F.avg_pool1d(abc, kernel_size=20, padding=\"same\")\n",
    "output.shape"
   ]
  },
  {
   "cell_type": "code",
   "execution_count": 5,
   "metadata": {},
   "outputs": [
    {
     "name": "stdout",
     "output_type": "stream",
     "text": [
      "tensor([[5, 3, 4, 1, 2, 2]])\n"
     ]
    }
   ],
   "source": [
    "W = torch.randint(1, 6, (1,6))\n",
    "print(W)"
   ]
  },
  {
   "cell_type": "code",
   "execution_count": 7,
   "metadata": {},
   "outputs": [
    {
     "data": {
      "text/plain": [
       "tensor([[2, 2, 1, 4, 3, 5]])"
      ]
     },
     "execution_count": 7,
     "metadata": {},
     "output_type": "execute_result"
    }
   ],
   "source": [
    "torch.flip(W, dims=[1])"
   ]
  },
  {
   "cell_type": "code",
   "execution_count": null,
   "metadata": {},
   "outputs": [
    {
     "data": {
      "text/plain": [
       "tensor([[1., 0., 0., 0., 0., 0., 0., 0.],\n",
       "        [0., 1., 0., 0., 0., 0., 0., 0.],\n",
       "        [0., 0., 1., 0., 0., 0., 0., 0.],\n",
       "        [0., 0., 0., 1., 0., 0., 0., 0.],\n",
       "        [0., 0., 0., 0., 1., 0., 0., 0.],\n",
       "        [0., 0., 0., 0., 0., 1., 0., 0.],\n",
       "        [0., 0., 0., 0., 0., 0., 1., 0.],\n",
       "        [0., 0., 0., 0., 0., 0., 0., 1.]])"
      ]
     },
     "execution_count": 9,
     "metadata": {},
     "output_type": "execute_result"
    }
   ],
   "source": [
    "torch.eye(8)."
   ]
  },
  {
   "cell_type": "code",
   "execution_count": null,
   "metadata": {},
   "outputs": [],
   "source": []
  }
 ],
 "metadata": {
  "kernelspec": {
   "display_name": ".venv",
   "language": "python",
   "name": "python3"
  },
  "language_info": {
   "codemirror_mode": {
    "name": "ipython",
    "version": 3
   },
   "file_extension": ".py",
   "mimetype": "text/x-python",
   "name": "python",
   "nbconvert_exporter": "python",
   "pygments_lexer": "ipython3",
   "version": "3.12.1"
  }
 },
 "nbformat": 4,
 "nbformat_minor": 2
}
